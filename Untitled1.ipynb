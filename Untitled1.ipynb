{
 "cells": [
  {
   "cell_type": "code",
   "execution_count": 3,
   "id": "5b7c19f1-1c73-4655-8c2e-770bdd836c98",
   "metadata": {},
   "outputs": [
    {
     "name": "stdout",
     "output_type": "stream",
     "text": [
      "           Start Time           Peak Time            End Time Class Location  \\\n",
      "0 2014-01-01 06:45:00 2014-01-01 06:49:00 2014-01-01 06:52:00  C2.1            \n",
      "1 2014-01-01 07:21:00 2014-01-01 07:26:00 2014-01-01 07:29:00  C3.2   S12W47   \n",
      "2 2014-01-01 15:40:00 2014-01-01 15:48:00 2014-01-01 16:09:00  C6.5            \n",
      "3 2014-01-01 18:40:00 2014-01-01 18:52:00 2014-01-01 19:03:00  M9.9   S14W47   \n",
      "4 2014-01-02 02:24:00 2014-01-02 02:33:00 2014-01-02 02:56:00  M1.7   S05E76   \n",
      "\n",
      "      AR                              Link  \n",
      "0   1944  eisflare/2014/20140101T0645.html  \n",
      "1   1940  eisflare/2014/20140101T0721.html  \n",
      "2   1944  eisflare/2014/20140101T1540.html  \n",
      "3   1936  eisflare/2014/20140101T1840.html  \n",
      "4   1944  eisflare/2014/20140102T0224.html  \n",
      "Start Time    datetime64[ns]\n",
      "Peak Time     datetime64[ns]\n",
      "End Time      datetime64[ns]\n",
      "Class                 object\n",
      "Location              object\n",
      "AR                    object\n",
      "Link                  object\n",
      "dtype: object\n"
     ]
    }
   ],
   "source": [
    "import pandas as pd\n",
    "import ast\n",
    "\n",
    "# Read the file content\n",
    "with open('/Users/andysh.to/Downloads/EIS_flare_cat_text_files/2014_json.txt', 'r') as file:\n",
    "    content = file.read()\n",
    "\n",
    "# Use ast.literal_eval to safely evaluate the string as a Python literal\n",
    "data = ast.literal_eval(content)\n",
    "\n",
    "# Extract the 'aaData' list from the data\n",
    "aa_data = data['aaData']\n",
    "\n",
    "# Define column names\n",
    "columns = ['Date', 'Start Time', 'Peak Time', 'End Time', 'Class', 'Location', 'AR', 'Link']\n",
    "\n",
    "# Create DataFrame\n",
    "df = pd.DataFrame(aa_data, columns=columns)\n",
    "\n",
    "# Convert Date and Time columns to datetime\n",
    "df['Date'] = pd.to_datetime(df['Date'], format='%d-%b-%y')\n",
    "for col in ['Start Time', 'Peak Time', 'End Time']:\n",
    "    df[col] = pd.to_datetime(df['Date'].astype(str) + ' ' + df[col], format='%Y-%m-%d %H:%M', errors='coerce')\n",
    "\n",
    "# Drop the original Date column as it's now incorporated into the time columns\n",
    "df = df.drop('Date', axis=1)\n",
    "\n",
    "# Remove the HTML tags from the Link column\n",
    "df['Link'] = df['Link'].str.extract('href=\"(.+?)\"')\n",
    "\n",
    "print(df.head())\n",
    "print(df.dtypes)"
   ]
  },
  {
   "cell_type": "code",
   "execution_count": 9,
   "id": "d785b785-ee61-4ff1-9f21-9f81d4e79d57",
   "metadata": {},
   "outputs": [
    {
     "data": {
      "text/html": [
       "<div>\n",
       "<style scoped>\n",
       "    .dataframe tbody tr th:only-of-type {\n",
       "        vertical-align: middle;\n",
       "    }\n",
       "\n",
       "    .dataframe tbody tr th {\n",
       "        vertical-align: top;\n",
       "    }\n",
       "\n",
       "    .dataframe thead th {\n",
       "        text-align: right;\n",
       "    }\n",
       "</style>\n",
       "<table border=\"1\" class=\"dataframe\">\n",
       "  <thead>\n",
       "    <tr style=\"text-align: right;\">\n",
       "      <th></th>\n",
       "      <th>Start Time</th>\n",
       "      <th>Peak Time</th>\n",
       "    </tr>\n",
       "  </thead>\n",
       "  <tbody>\n",
       "    <tr>\n",
       "      <th>0</th>\n",
       "      <td>2014-01-01 06:45:00</td>\n",
       "      <td>2014-01-01 06:49:00</td>\n",
       "    </tr>\n",
       "    <tr>\n",
       "      <th>1</th>\n",
       "      <td>2014-01-01 07:21:00</td>\n",
       "      <td>2014-01-01 07:26:00</td>\n",
       "    </tr>\n",
       "    <tr>\n",
       "      <th>2</th>\n",
       "      <td>2014-01-01 15:40:00</td>\n",
       "      <td>2014-01-01 15:48:00</td>\n",
       "    </tr>\n",
       "    <tr>\n",
       "      <th>3</th>\n",
       "      <td>2014-01-01 18:40:00</td>\n",
       "      <td>2014-01-01 18:52:00</td>\n",
       "    </tr>\n",
       "    <tr>\n",
       "      <th>4</th>\n",
       "      <td>2014-01-02 02:24:00</td>\n",
       "      <td>2014-01-02 02:33:00</td>\n",
       "    </tr>\n",
       "    <tr>\n",
       "      <th>...</th>\n",
       "      <td>...</td>\n",
       "      <td>...</td>\n",
       "    </tr>\n",
       "    <tr>\n",
       "      <th>2162</th>\n",
       "      <td>2014-12-31 06:42:00</td>\n",
       "      <td>2014-12-31 06:48:00</td>\n",
       "    </tr>\n",
       "    <tr>\n",
       "      <th>2163</th>\n",
       "      <td>2014-12-31 09:01:00</td>\n",
       "      <td>2014-12-31 09:04:00</td>\n",
       "    </tr>\n",
       "    <tr>\n",
       "      <th>2164</th>\n",
       "      <td>2014-12-31 12:12:00</td>\n",
       "      <td>2014-12-31 12:16:00</td>\n",
       "    </tr>\n",
       "    <tr>\n",
       "      <th>2165</th>\n",
       "      <td>2014-12-31 12:31:00</td>\n",
       "      <td>2014-12-31 12:35:00</td>\n",
       "    </tr>\n",
       "    <tr>\n",
       "      <th>2166</th>\n",
       "      <td>2014-12-31 23:02:00</td>\n",
       "      <td>2014-12-31 23:39:00</td>\n",
       "    </tr>\n",
       "  </tbody>\n",
       "</table>\n",
       "<p>2167 rows × 2 columns</p>\n",
       "</div>"
      ],
      "text/plain": [
       "              Start Time           Peak Time\n",
       "0    2014-01-01 06:45:00 2014-01-01 06:49:00\n",
       "1    2014-01-01 07:21:00 2014-01-01 07:26:00\n",
       "2    2014-01-01 15:40:00 2014-01-01 15:48:00\n",
       "3    2014-01-01 18:40:00 2014-01-01 18:52:00\n",
       "4    2014-01-02 02:24:00 2014-01-02 02:33:00\n",
       "...                  ...                 ...\n",
       "2162 2014-12-31 06:42:00 2014-12-31 06:48:00\n",
       "2163 2014-12-31 09:01:00 2014-12-31 09:04:00\n",
       "2164 2014-12-31 12:12:00 2014-12-31 12:16:00\n",
       "2165 2014-12-31 12:31:00 2014-12-31 12:35:00\n",
       "2166 2014-12-31 23:02:00 2014-12-31 23:39:00\n",
       "\n",
       "[2167 rows x 2 columns]"
      ]
     },
     "execution_count": 9,
     "metadata": {},
     "output_type": "execute_result"
    }
   ],
   "source": [
    "df[['Start Time','Peak Time']]"
   ]
  },
  {
   "cell_type": "code",
   "execution_count": 8,
   "id": "41d07d0c-ccde-4f22-8a95-fff34f4488bf",
   "metadata": {},
   "outputs": [],
   "source": [
    "from sunpy.net import Fido\n",
    "from sunpy.net import attrs as a\n",
    "\n",
    "def download_aia_data(start_date_str, end_date_str, wavelength,cadence):\n",
    "    downloads = []\n",
    "    try:\n",
    "        res = Fido.search(a.Time(start_date_str, end_date_str), \n",
    "                          a.Instrument('aia'), \n",
    "                          a.Wavelength(wavelength * u.angstrom), \n",
    "                          a.Sample(cadence * u.minute))\n",
    "        \n",
    "        downloads = Fido.fetch(res, path=\"./{instrument}/{file}\")\n",
    "    except Exception as e:\n",
    "        print(f\"An error occurred during download: {str(e)}\")\n",
    "        print(\"Continuing with partial results...\")\n",
    "    \n",
    "    return downloads\n"
   ]
  },
  {
   "cell_type": "code",
   "execution_count": 23,
   "id": "058a8864-d11f-49d5-aa17-aa36f78ebd53",
   "metadata": {},
   "outputs": [
    {
     "data": {
      "text/plain": [
       "[['2014-01-01T06:45:00', '2014-01-01T06:49:00'],\n",
       " ['2014-01-01T07:21:00', '2014-01-01T07:26:00'],\n",
       " ['2014-01-01T15:40:00', '2014-01-01T15:48:00'],\n",
       " ['2014-01-01T18:40:00', '2014-01-01T18:52:00'],\n",
       " ['2014-01-02T02:24:00', '2014-01-02T02:33:00'],\n",
       " ['2014-01-02T04:25:00', '2014-01-02T04:29:00'],\n",
       " ['2014-01-02T07:43:00', '2014-01-02T07:49:00'],\n",
       " ['2014-01-02T11:25:00', '2014-01-02T12:26:00'],\n",
       " ['2014-01-02T20:30:00', '2014-01-02T20:38:00'],\n",
       " ['2014-01-02T21:41:00', '2014-01-02T21:46:00']]"
      ]
     },
     "execution_count": 23,
     "metadata": {},
     "output_type": "execute_result"
    }
   ],
   "source": [
    "result[0:10]"
   ]
  },
  {
   "cell_type": "code",
   "execution_count": 58,
   "id": "063d7081-6c16-403c-980f-e834f889f148",
   "metadata": {},
   "outputs": [],
   "source": [
    "from astropy.time import Time, TimeDelta\n",
    "import astropy.units as u\n",
    "from sunpy.net import Fido\n",
    "from sunpy.net import attrs as a\n",
    "\n",
    "time_ranges = []\n",
    "time_delta = TimeDelta(30, format='sec')\n",
    "\n",
    "for start, peak in result:  # result is your list of time pairs\n",
    "    start_time = Time(start)\n",
    "    peak_time = Time(peak)\n",
    "    start_time_lagged = start_time + time_delta\n",
    "    peak_time_lagged = peak_time + time_delta\n",
    "    \n",
    "    time_ranges.append(a.Time(start_time, start_time_lagged))\n",
    "    time_ranges.append(a.Time(peak_time, peak_time_lagged))\n",
    "\n",
    "# Create a single query combining all time ranges with OR\n",
    "time_query = time_ranges[0]\n",
    "for time_range in time_ranges[1:]:\n",
    "    time_query |= time_range"
   ]
  },
  {
   "cell_type": "code",
   "execution_count": null,
   "id": "e84c6d22-90ba-4cbf-867e-2032728c0882",
   "metadata": {
    "scrolled": true
   },
   "outputs": [],
   "source": [
    "from sunpy.net import Fido, attrs as a\n",
    "import astropy.units as u\n",
    "\n",
    "# Assuming time_ranges is your list of time range pairs\n",
    "chunk_size = 3  # number of time ranges to search at once\n",
    "all_search_results = []\n",
    "\n",
    "print(f\"Total number of time ranges: {len(time_ranges)}\")\n",
    "\n",
    "for i in range(0, min(10, len(time_ranges)), chunk_size):\n",
    "    chunk = time_ranges[i:i+chunk_size]\n",
    "    print(f\"Processing chunk starting at index {i}, chunk size: {len(chunk)}\")\n",
    "    \n",
    "    if not chunk:\n",
    "        print(\"Empty chunk, skipping...\")\n",
    "        continue\n",
    "    \n",
    "    time_query = chunk[0]\n",
    "    print(f\"First time range in chunk: {time_query}\")\n",
    "    \n",
    "    for time_range in chunk[1:]:\n",
    "        time_query |= time_range\n",
    "        print(f\"Added time range: {time_range}\")\n",
    "    \n",
    "    try:\n",
    "        search_result = Fido.search(\n",
    "            time_query,\n",
    "            a.Instrument(\"aia\"),\n",
    "            a.Wavelength(94*u.angstrom),\n",
    "            a.Sample(1*u.minute)\n",
    "        )\n",
    "        \n",
    "        all_search_results.append(search_result)\n",
    "        print(f\"Completed search for chunk {i//chunk_size + 1}/{min(3, (len(time_ranges)-1)//chunk_size + 1)}\")\n",
    "        print(f\"Found {len(search_result)} results in this chunk\")\n",
    "    except Exception as e:\n",
    "        print(f\"Error occurred during search: {str(e)}\")\n",
    "\n",
    "print(f\"Total number of search results: {len(all_search_results)}\")"
   ]
  },
  {
   "cell_type": "code",
   "execution_count": 72,
   "id": "eda09816-9dd0-4d65-b2b9-51f5289cd27e",
   "metadata": {
    "scrolled": true
   },
   "outputs": [
    {
     "ename": "AttributeError",
     "evalue": "'UnifiedResponse' object has no attribute 'append'",
     "output_type": "error",
     "traceback": [
      "\u001b[0;31m---------------------------------------------------------------------------\u001b[0m",
      "\u001b[0;31mAttributeError\u001b[0m                            Traceback (most recent call last)",
      "Cell \u001b[0;32mIn[72], line 3\u001b[0m\n\u001b[1;32m      1\u001b[0m combined_result \u001b[38;5;241m=\u001b[39m all_search_results[\u001b[38;5;241m0\u001b[39m]\n\u001b[1;32m      2\u001b[0m \u001b[38;5;28;01mfor\u001b[39;00m result \u001b[38;5;129;01min\u001b[39;00m all_search_results[\u001b[38;5;241m1\u001b[39m:]:\n\u001b[0;32m----> 3\u001b[0m     combined_result \u001b[38;5;241m=\u001b[39m \u001b[43mcombined_result\u001b[49m\u001b[38;5;241;43m.\u001b[39;49m\u001b[43mappend\u001b[49m(result)\n",
      "\u001b[0;31mAttributeError\u001b[0m: 'UnifiedResponse' object has no attribute 'append'"
     ]
    }
   ],
   "source": [
    "combined_result = all_search_results[0]\n",
    "for result in all_search_results[1:]:\n",
    "    combined_result = combined_result.append(result)"
   ]
  },
  {
   "cell_type": "code",
   "execution_count": null,
   "id": "21a09ed9-8ea0-4b26-9825-495d48018997",
   "metadata": {},
   "outputs": [],
   "source": []
  },
  {
   "cell_type": "code",
   "execution_count": 75,
   "id": "78aa5799-4845-475f-b67c-d63f6941ee1f",
   "metadata": {},
   "outputs": [
    {
     "data": {
      "text/plain": [
       "sunpy.net.fido_factory.UnifiedResponse"
      ]
     },
     "execution_count": 75,
     "metadata": {},
     "output_type": "execute_result"
    }
   ],
   "source": [
    "type(combined_result)"
   ]
  },
  {
   "cell_type": "code",
   "execution_count": 73,
   "id": "a83ca42e-3ae0-4751-b0de-c1167ebca88e",
   "metadata": {},
   "outputs": [
    {
     "data": {
      "text/html": [
       "Results from 3 Providers:</br></br>1 Results from the VSOClient:</br><div><i>VSOQueryResponseTable length=1</i>\n",
       "<table id=\"table12992942224\" class=\"table-striped table-bordered table-condensed\">\n",
       "<thead><tr><th>Start Time</th><th>End Time</th><th>Source</th><th>Instrument</th><th>Wavelength</th><th>Provider</th><th>Physobs</th><th>Wavetype</th><th>Extent Width</th><th>Extent Length</th><th>Extent Type</th><th>Size</th></tr></thead>\n",
       "<thead><tr><th></th><th></th><th></th><th></th><th>Angstrom</th><th></th><th></th><th></th><th></th><th></th><th></th><th>Mibyte</th></tr></thead>\n",
       "<thead><tr><th>Time</th><th>Time</th><th>str3</th><th>str3</th><th>float64[2]</th><th>str4</th><th>str9</th><th>str6</th><th>str4</th><th>str4</th><th>str8</th><th>float64</th></tr></thead>\n",
       "<tr><td>2014-01-01 07:26:01.000</td><td>2014-01-01 07:26:02.000</td><td>SDO</td><td>AIA</td><td>94.0 .. 94.0</td><td>JSOC</td><td>intensity</td><td>NARROW</td><td>4096</td><td>4096</td><td>FULLDISK</td><td>64.64844</td></tr>\n",
       "</table></div></br>1 Results from the VSOClient:</br><div><i>VSOQueryResponseTable length=1</i>\n",
       "<table id=\"table13006102800\" class=\"table-striped table-bordered table-condensed\">\n",
       "<thead><tr><th>Start Time</th><th>End Time</th><th>Source</th><th>Instrument</th><th>Wavelength</th><th>Provider</th><th>Physobs</th><th>Wavetype</th><th>Extent Width</th><th>Extent Length</th><th>Extent Type</th><th>Size</th></tr></thead>\n",
       "<thead><tr><th></th><th></th><th></th><th></th><th>Angstrom</th><th></th><th></th><th></th><th></th><th></th><th></th><th>Mibyte</th></tr></thead>\n",
       "<thead><tr><th>Time</th><th>Time</th><th>str3</th><th>str3</th><th>float64[2]</th><th>str4</th><th>str9</th><th>str6</th><th>str4</th><th>str4</th><th>str8</th><th>float64</th></tr></thead>\n",
       "<tr><td>2014-01-01 15:40:01.000</td><td>2014-01-01 15:40:02.000</td><td>SDO</td><td>AIA</td><td>94.0 .. 94.0</td><td>JSOC</td><td>intensity</td><td>NARROW</td><td>4096</td><td>4096</td><td>FULLDISK</td><td>64.64844</td></tr>\n",
       "</table></div></br>1 Results from the VSOClient:</br><div><i>VSOQueryResponseTable length=1</i>\n",
       "<table id=\"table12975258384\" class=\"table-striped table-bordered table-condensed\">\n",
       "<thead><tr><th>Start Time</th><th>End Time</th><th>Source</th><th>Instrument</th><th>Wavelength</th><th>Provider</th><th>Physobs</th><th>Wavetype</th><th>Extent Width</th><th>Extent Length</th><th>Extent Type</th><th>Size</th></tr></thead>\n",
       "<thead><tr><th></th><th></th><th></th><th></th><th>Angstrom</th><th></th><th></th><th></th><th></th><th></th><th></th><th>Mibyte</th></tr></thead>\n",
       "<thead><tr><th>Time</th><th>Time</th><th>str3</th><th>str3</th><th>float64[2]</th><th>str4</th><th>str9</th><th>str6</th><th>str4</th><th>str4</th><th>str8</th><th>float64</th></tr></thead>\n",
       "<tr><td>2014-01-01 15:48:01.000</td><td>2014-01-01 15:48:02.000</td><td>SDO</td><td>AIA</td><td>94.0 .. 94.0</td><td>JSOC</td><td>intensity</td><td>NARROW</td><td>4096</td><td>4096</td><td>FULLDISK</td><td>64.64844</td></tr>\n",
       "</table></div></br>"
      ],
      "text/plain": [
       "<sunpy.net.fido_factory.UnifiedResponse object at 0x307f9df90>\n",
       "Results from 3 Providers:\n",
       "\n",
       "1 Results from the VSOClient:\n",
       "Source: http://vso.stanford.edu/cgi-bin/search\n",
       "Total estimated size: 67.789 Mbyte\n",
       "\n",
       "       Start Time               End Time        Source ... Extent Type   Size  \n",
       "                                                       ...              Mibyte \n",
       "----------------------- ----------------------- ------ ... ----------- --------\n",
       "2014-01-01 07:26:01.000 2014-01-01 07:26:02.000    SDO ...    FULLDISK 64.64844\n",
       "\n",
       "1 Results from the VSOClient:\n",
       "Source: http://vso.stanford.edu/cgi-bin/search\n",
       "Total estimated size: 67.789 Mbyte\n",
       "\n",
       "       Start Time               End Time        Source ... Extent Type   Size  \n",
       "                                                       ...              Mibyte \n",
       "----------------------- ----------------------- ------ ... ----------- --------\n",
       "2014-01-01 15:40:01.000 2014-01-01 15:40:02.000    SDO ...    FULLDISK 64.64844\n",
       "\n",
       "1 Results from the VSOClient:\n",
       "Source: http://vso.stanford.edu/cgi-bin/search\n",
       "Total estimated size: 67.789 Mbyte\n",
       "\n",
       "       Start Time               End Time        Source ... Extent Type   Size  \n",
       "                                                       ...              Mibyte \n",
       "----------------------- ----------------------- ------ ... ----------- --------\n",
       "2014-01-01 15:48:01.000 2014-01-01 15:48:02.000    SDO ...    FULLDISK 64.64844\n"
      ]
     },
     "execution_count": 73,
     "metadata": {},
     "output_type": "execute_result"
    }
   ],
   "source": [
    "result"
   ]
  },
  {
   "cell_type": "code",
   "execution_count": 67,
   "id": "fd8c18d5-3055-454c-b908-5c09912d1712",
   "metadata": {},
   "outputs": [
    {
     "data": {
      "text/html": [
       "Results from 3 Providers:</br></br>1 Results from the VSOClient:</br><div><i>VSOQueryResponseTable length=1</i>\n",
       "<table id=\"table12995384592\" class=\"table-striped table-bordered table-condensed\">\n",
       "<thead><tr><th>Start Time</th><th>End Time</th><th>Source</th><th>Instrument</th><th>Wavelength</th><th>Provider</th><th>Physobs</th><th>Wavetype</th><th>Extent Width</th><th>Extent Length</th><th>Extent Type</th><th>Size</th></tr></thead>\n",
       "<thead><tr><th></th><th></th><th></th><th></th><th>Angstrom</th><th></th><th></th><th></th><th></th><th></th><th></th><th>Mibyte</th></tr></thead>\n",
       "<thead><tr><th>Time</th><th>Time</th><th>str3</th><th>str3</th><th>float64[2]</th><th>str4</th><th>str9</th><th>str6</th><th>str4</th><th>str4</th><th>str8</th><th>float64</th></tr></thead>\n",
       "<tr><td>2014-01-01 06:45:01.000</td><td>2014-01-01 06:45:02.000</td><td>SDO</td><td>AIA</td><td>94.0 .. 94.0</td><td>JSOC</td><td>intensity</td><td>NARROW</td><td>4096</td><td>4096</td><td>FULLDISK</td><td>64.64844</td></tr>\n",
       "</table></div></br>1 Results from the VSOClient:</br><div><i>VSOQueryResponseTable length=1</i>\n",
       "<table id=\"table12995418896\" class=\"table-striped table-bordered table-condensed\">\n",
       "<thead><tr><th>Start Time</th><th>End Time</th><th>Source</th><th>Instrument</th><th>Wavelength</th><th>Provider</th><th>Physobs</th><th>Wavetype</th><th>Extent Width</th><th>Extent Length</th><th>Extent Type</th><th>Size</th></tr></thead>\n",
       "<thead><tr><th></th><th></th><th></th><th></th><th>Angstrom</th><th></th><th></th><th></th><th></th><th></th><th></th><th>Mibyte</th></tr></thead>\n",
       "<thead><tr><th>Time</th><th>Time</th><th>str3</th><th>str3</th><th>float64[2]</th><th>str4</th><th>str9</th><th>str6</th><th>str4</th><th>str4</th><th>str8</th><th>float64</th></tr></thead>\n",
       "<tr><td>2014-01-01 06:49:01.000</td><td>2014-01-01 06:49:02.000</td><td>SDO</td><td>AIA</td><td>94.0 .. 94.0</td><td>JSOC</td><td>intensity</td><td>NARROW</td><td>4096</td><td>4096</td><td>FULLDISK</td><td>64.64844</td></tr>\n",
       "</table></div></br>1 Results from the VSOClient:</br><div><i>VSOQueryResponseTable length=1</i>\n",
       "<table id=\"table13003227472\" class=\"table-striped table-bordered table-condensed\">\n",
       "<thead><tr><th>Start Time</th><th>End Time</th><th>Source</th><th>Instrument</th><th>Wavelength</th><th>Provider</th><th>Physobs</th><th>Wavetype</th><th>Extent Width</th><th>Extent Length</th><th>Extent Type</th><th>Size</th></tr></thead>\n",
       "<thead><tr><th></th><th></th><th></th><th></th><th>Angstrom</th><th></th><th></th><th></th><th></th><th></th><th></th><th>Mibyte</th></tr></thead>\n",
       "<thead><tr><th>Time</th><th>Time</th><th>str3</th><th>str3</th><th>float64[2]</th><th>str4</th><th>str9</th><th>str6</th><th>str4</th><th>str4</th><th>str8</th><th>float64</th></tr></thead>\n",
       "<tr><td>2014-01-01 07:21:01.000</td><td>2014-01-01 07:21:02.000</td><td>SDO</td><td>AIA</td><td>94.0 .. 94.0</td><td>JSOC</td><td>intensity</td><td>NARROW</td><td>4096</td><td>4096</td><td>FULLDISK</td><td>64.64844</td></tr>\n",
       "</table></div></br>"
      ],
      "text/plain": [
       "<sunpy.net.fido_factory.UnifiedResponse object at 0x307922e90>\n",
       "Results from 3 Providers:\n",
       "\n",
       "1 Results from the VSOClient:\n",
       "Source: http://vso.stanford.edu/cgi-bin/search\n",
       "Total estimated size: 67.789 Mbyte\n",
       "\n",
       "       Start Time               End Time        Source ... Extent Type   Size  \n",
       "                                                       ...              Mibyte \n",
       "----------------------- ----------------------- ------ ... ----------- --------\n",
       "2014-01-01 06:45:01.000 2014-01-01 06:45:02.000    SDO ...    FULLDISK 64.64844\n",
       "\n",
       "1 Results from the VSOClient:\n",
       "Source: http://vso.stanford.edu/cgi-bin/search\n",
       "Total estimated size: 67.789 Mbyte\n",
       "\n",
       "       Start Time               End Time        Source ... Extent Type   Size  \n",
       "                                                       ...              Mibyte \n",
       "----------------------- ----------------------- ------ ... ----------- --------\n",
       "2014-01-01 06:49:01.000 2014-01-01 06:49:02.000    SDO ...    FULLDISK 64.64844\n",
       "\n",
       "1 Results from the VSOClient:\n",
       "Source: http://vso.stanford.edu/cgi-bin/search\n",
       "Total estimated size: 67.789 Mbyte\n",
       "\n",
       "       Start Time               End Time        Source ... Extent Type   Size  \n",
       "                                                       ...              Mibyte \n",
       "----------------------- ----------------------- ------ ... ----------- --------\n",
       "2014-01-01 07:21:01.000 2014-01-01 07:21:02.000    SDO ...    FULLDISK 64.64844\n"
      ]
     },
     "execution_count": 67,
     "metadata": {},
     "output_type": "execute_result"
    }
   ],
   "source": [
    "combined_result"
   ]
  },
  {
   "cell_type": "code",
   "execution_count": 78,
   "id": "f43cd9ec-0af6-4b13-8eb9-dfcfd5b3f423",
   "metadata": {},
   "outputs": [
    {
     "ename": "ValueError",
     "evalue": "Query result has an unrecognized type: <class 'list'> Allowed types are QueryResponseRow, QueryResponseTable or UnifiedResponse.",
     "output_type": "error",
     "traceback": [
      "\u001b[0;31m---------------------------------------------------------------------------\u001b[0m",
      "\u001b[0;31mValueError\u001b[0m                                Traceback (most recent call last)",
      "Cell \u001b[0;32mIn[78], line 1\u001b[0m\n\u001b[0;32m----> 1\u001b[0m downloaded_files \u001b[38;5;241m=\u001b[39m \u001b[43mFido\u001b[49m\u001b[38;5;241;43m.\u001b[39;49m\u001b[43mfetch\u001b[49m\u001b[43m(\u001b[49m\u001b[43mall_search_results\u001b[49m\u001b[43m)\u001b[49m\n\u001b[1;32m      3\u001b[0m \u001b[38;5;66;03m# all_search_results\u001b[39;00m\n",
      "File \u001b[0;32m~/miniconda3/envs/solar/lib/python3.11/site-packages/sunpy/net/fido_factory.py:425\u001b[0m, in \u001b[0;36mUnifiedDownloaderFactory.fetch\u001b[0;34m(self, path, max_conn, progress, overwrite, downloader, *query_results, **kwargs)\u001b[0m\n\u001b[1;32m    423\u001b[0m     responses \u001b[38;5;241m=\u001b[39m query_result\n\u001b[1;32m    424\u001b[0m \u001b[38;5;28;01melse\u001b[39;00m:\n\u001b[0;32m--> 425\u001b[0m     \u001b[38;5;28;01mraise\u001b[39;00m \u001b[38;5;167;01mValueError\u001b[39;00m(\u001b[38;5;124mf\u001b[39m\u001b[38;5;124m\"\u001b[39m\u001b[38;5;124mQuery result has an unrecognized type: \u001b[39m\u001b[38;5;132;01m{\u001b[39;00m\u001b[38;5;28mtype\u001b[39m(query_result)\u001b[38;5;132;01m}\u001b[39;00m\u001b[38;5;124m \u001b[39m\u001b[38;5;124m\"\u001b[39m\n\u001b[1;32m    426\u001b[0m                      \u001b[38;5;124m\"\u001b[39m\u001b[38;5;124mAllowed types are QueryResponseRow, QueryResponseTable or UnifiedResponse.\u001b[39m\u001b[38;5;124m\"\u001b[39m)\n\u001b[1;32m    427\u001b[0m \u001b[38;5;28;01mfor\u001b[39;00m block \u001b[38;5;129;01min\u001b[39;00m responses:\n\u001b[1;32m    428\u001b[0m     result \u001b[38;5;241m=\u001b[39m block\u001b[38;5;241m.\u001b[39mclient\u001b[38;5;241m.\u001b[39mfetch(block, path\u001b[38;5;241m=\u001b[39mpath,\n\u001b[1;32m    429\u001b[0m                                 downloader\u001b[38;5;241m=\u001b[39mdownloader,\n\u001b[1;32m    430\u001b[0m                                 wait\u001b[38;5;241m=\u001b[39m\u001b[38;5;28;01mFalse\u001b[39;00m, \u001b[38;5;241m*\u001b[39m\u001b[38;5;241m*\u001b[39mkwargs)\n",
      "\u001b[0;31mValueError\u001b[0m: Query result has an unrecognized type: <class 'list'> Allowed types are QueryResponseRow, QueryResponseTable or UnifiedResponse."
     ]
    }
   ],
   "source": [
    "downloaded_files = Fido.fetch(all_search_results)\n",
    "\n",
    "# all_search_results"
   ]
  },
  {
   "cell_type": "code",
   "execution_count": null,
   "id": "788f126f-2a26-4cf6-9be2-6afe5cdd6028",
   "metadata": {},
   "outputs": [
    {
     "data": {
      "text/plain": [
       "<AttrOr([<sunpy.net.attrs.Time(2014-01-01 06:45:00.000, 2014-01-01 06:45:30.000)>, <sunpy.net.attrs.Time(2014-01-01 06:49:00.000, 2014-01-01 06:49:30.000)>])>"
      ]
     },
     "execution_count": 31,
     "metadata": {},
     "output_type": "execute_result"
    }
   ],
   "source": [
    "print(f\"Total files found: {len(combined_result)}\")\n",
    "\n",
    "# Fetch all files\n",
    "downloaded_files = Fido.fetch(combined_result)\n",
    "\n",
    "print(f\"Downloaded {len(downloaded_files)} files\")"
   ]
  },
  {
   "cell_type": "code",
   "execution_count": 32,
   "id": "c421ac04-4c88-4d09-819f-2c90e145fbbe",
   "metadata": {},
   "outputs": [],
   "source": [
    "# Perform the search\n",
    "search_result = Fido.search(\n",
    "    time_query,\n",
    "    a.Instrument(\"aia\"),\n",
    "    a.Wavelength(94*u.angstrom),\n",
    "    a.Sample(1*u.minute)\n",
    ")"
   ]
  },
  {
   "cell_type": "code",
   "execution_count": 33,
   "id": "54201892-b974-4ab8-aee2-ca0e4a286fff",
   "metadata": {},
   "outputs": [
    {
     "data": {
      "text/html": [
       "Results from 2 Providers:</br></br>1 Results from the VSOClient:</br><div><i>VSOQueryResponseTable length=1</i>\n",
       "<table id=\"table13013252432\" class=\"table-striped table-bordered table-condensed\">\n",
       "<thead><tr><th>Start Time</th><th>End Time</th><th>Source</th><th>Instrument</th><th>Wavelength</th><th>Provider</th><th>Physobs</th><th>Wavetype</th><th>Extent Width</th><th>Extent Length</th><th>Extent Type</th><th>Size</th></tr></thead>\n",
       "<thead><tr><th></th><th></th><th></th><th></th><th>Angstrom</th><th></th><th></th><th></th><th></th><th></th><th></th><th>Mibyte</th></tr></thead>\n",
       "<thead><tr><th>Time</th><th>Time</th><th>str3</th><th>str3</th><th>float64[2]</th><th>str4</th><th>str9</th><th>str6</th><th>str4</th><th>str4</th><th>str8</th><th>float64</th></tr></thead>\n",
       "<tr><td>2014-01-01 06:45:01.000</td><td>2014-01-01 06:45:02.000</td><td>SDO</td><td>AIA</td><td>94.0 .. 94.0</td><td>JSOC</td><td>intensity</td><td>NARROW</td><td>4096</td><td>4096</td><td>FULLDISK</td><td>64.64844</td></tr>\n",
       "</table></div></br>1 Results from the VSOClient:</br><div><i>VSOQueryResponseTable length=1</i>\n",
       "<table id=\"table13013410064\" class=\"table-striped table-bordered table-condensed\">\n",
       "<thead><tr><th>Start Time</th><th>End Time</th><th>Source</th><th>Instrument</th><th>Wavelength</th><th>Provider</th><th>Physobs</th><th>Wavetype</th><th>Extent Width</th><th>Extent Length</th><th>Extent Type</th><th>Size</th></tr></thead>\n",
       "<thead><tr><th></th><th></th><th></th><th></th><th>Angstrom</th><th></th><th></th><th></th><th></th><th></th><th></th><th>Mibyte</th></tr></thead>\n",
       "<thead><tr><th>Time</th><th>Time</th><th>str3</th><th>str3</th><th>float64[2]</th><th>str4</th><th>str9</th><th>str6</th><th>str4</th><th>str4</th><th>str8</th><th>float64</th></tr></thead>\n",
       "<tr><td>2014-01-01 06:49:01.000</td><td>2014-01-01 06:49:02.000</td><td>SDO</td><td>AIA</td><td>94.0 .. 94.0</td><td>JSOC</td><td>intensity</td><td>NARROW</td><td>4096</td><td>4096</td><td>FULLDISK</td><td>64.64844</td></tr>\n",
       "</table></div></br>"
      ],
      "text/plain": [
       "<sunpy.net.fido_factory.UnifiedResponse object at 0x307a67850>\n",
       "Results from 2 Providers:\n",
       "\n",
       "1 Results from the VSOClient:\n",
       "Source: http://vso.stanford.edu/cgi-bin/search\n",
       "Total estimated size: 67.789 Mbyte\n",
       "\n",
       "       Start Time               End Time        Source ... Extent Type   Size  \n",
       "                                                       ...              Mibyte \n",
       "----------------------- ----------------------- ------ ... ----------- --------\n",
       "2014-01-01 06:45:01.000 2014-01-01 06:45:02.000    SDO ...    FULLDISK 64.64844\n",
       "\n",
       "1 Results from the VSOClient:\n",
       "Source: http://vso.stanford.edu/cgi-bin/search\n",
       "Total estimated size: 67.789 Mbyte\n",
       "\n",
       "       Start Time               End Time        Source ... Extent Type   Size  \n",
       "                                                       ...              Mibyte \n",
       "----------------------- ----------------------- ------ ... ----------- --------\n",
       "2014-01-01 06:49:01.000 2014-01-01 06:49:02.000    SDO ...    FULLDISK 64.64844\n"
      ]
     },
     "execution_count": 33,
     "metadata": {},
     "output_type": "execute_result"
    }
   ],
   "source": [
    "search_result"
   ]
  },
  {
   "cell_type": "code",
   "execution_count": null,
   "id": "416f3618-5e67-4350-8ca4-dfa0e7503d93",
   "metadata": {},
   "outputs": [],
   "source": [
    "time_range"
   ]
  },
  {
   "cell_type": "code",
   "execution_count": null,
   "id": "1ac9d1ea-4a8a-4414-a867-5a42ec8d3ba1",
   "metadata": {},
   "outputs": [],
   "source": []
  }
 ],
 "metadata": {
  "kernelspec": {
   "display_name": "Python 3 (ipykernel)",
   "language": "python",
   "name": "python3"
  },
  "language_info": {
   "codemirror_mode": {
    "name": "ipython",
    "version": 3
   },
   "file_extension": ".py",
   "mimetype": "text/x-python",
   "name": "python",
   "nbconvert_exporter": "python",
   "pygments_lexer": "ipython3",
   "version": "3.11.9"
  }
 },
 "nbformat": 4,
 "nbformat_minor": 5
}
